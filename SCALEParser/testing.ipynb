{
 "cells": [
  {
   "cell_type": "code",
   "execution_count": 2,
   "metadata": {},
   "outputs": [],
   "source": [
    "import scaleParsing\n",
    "import numpy as np\n",
    "import matplotlib.pyplot as plt\n"
   ]
  },
  {
   "cell_type": "code",
   "execution_count": null,
   "metadata": {},
   "outputs": [],
   "source": [
    "lines = scaleParsing.open_message_file(file='SCALE.76961.out')\n",
    "powers = scaleParsing.get_mixture_powers(lines=lines, is_msg_file=False)\n",
    "\n",
    "bottom = np.linspace(101,108,8)\n",
    "top = np.linspace(109,116,8)\n",
    "ao_CELI = scaleParsing.get_axial_offset(mixture_powers=powers, bottom_half=bottom, top_half=top)\n",
    "scaleParsing.burnupPowerPlot(powers)\n"
   ]
  },
  {
   "cell_type": "code",
   "execution_count": null,
   "metadata": {},
   "outputs": [],
   "source": [
    "lines = scaleParsing.open_message_file(file='SCALE.76922.out')\n",
    "powers = scaleParsing.get_mixture_powers(lines=lines, is_msg_file=False)\n",
    "\n",
    "bottom = np.linspace(101,108,8)\n",
    "top = np.linspace(109,116,8)\n",
    "ao_CEBE = scaleParsing.get_axial_offset(mixture_powers=powers, bottom_half=bottom, top_half=top)\n",
    "scaleParsing.burnupPowerPlot(powers)\n"
   ]
  },
  {
   "cell_type": "code",
   "execution_count": 6,
   "metadata": {},
   "outputs": [],
   "source": [
    "lines = scaleParsing.open_message_file(file='SCALE.77120.out')\n",
    "powers = scaleParsing.get_mixture_powers(lines=lines, is_msg_file=False)\n",
    "\n",
    "bottom = np.linspace(101,108,8)\n",
    "top = np.linspace(109,116,8)\n",
    "ao_CEPE = scaleParsing.get_axial_offset(mixture_powers=powers, bottom_half=bottom, top_half=top)\n"
   ]
  },
  {
   "cell_type": "code",
   "execution_count": null,
   "metadata": {},
   "outputs": [],
   "source": [
    "lines = scaleParsing.open_message_file(file='homogenization_2_2.msg')\n",
    "powers = scaleParsing.get_mixture_powers(lines=lines, is_msg_file=True)\n",
    "\n",
    "bottom = np.linspace(101,108,8)\n",
    "top = np.linspace(109,116,8)\n",
    "ao_CECM = scaleParsing.get_axial_offset(mixture_powers=powers, bottom_half=bottom, top_half=top)\n",
    "scaleParsing.burnupPowerPlot(powers)\n"
   ]
  },
  {
   "cell_type": "code",
   "execution_count": null,
   "metadata": {},
   "outputs": [],
   "source": [
    "plt.plot(ao_CECM, label='CE/CM', marker='o', linestyle='-', markersize=4)\n",
    "plt.plot(ao_CEBE, label='CE/BE', marker='o', linestyle='-', markersize=4)\n",
    "plt.plot(ao_CELI, label='CE/LI', marker='o', linestyle='-', markersize=4)\n",
    "plt.plot(ao_CEPE, label='CE/PE', marker='o', linestyle='-', markersize=4)\n",
    "plt.legend()"
   ]
  },
  {
   "cell_type": "code",
   "execution_count": null,
   "metadata": {},
   "outputs": [],
   "source": []
  },
  {
   "cell_type": "code",
   "execution_count": null,
   "metadata": {},
   "outputs": [],
   "source": []
  },
  {
   "cell_type": "code",
   "execution_count": null,
   "metadata": {},
   "outputs": [],
   "source": []
  },
  {
   "cell_type": "code",
   "execution_count": null,
   "metadata": {},
   "outputs": [],
   "source": [
    "np.zeros(145)"
   ]
  }
 ],
 "metadata": {
  "kernelspec": {
   "display_name": "base",
   "language": "python",
   "name": "python3"
  },
  "language_info": {
   "codemirror_mode": {
    "name": "ipython",
    "version": 3
   },
   "file_extension": ".py",
   "mimetype": "text/x-python",
   "name": "python",
   "nbconvert_exporter": "python",
   "pygments_lexer": "ipython3",
   "version": "3.11.6"
  }
 },
 "nbformat": 4,
 "nbformat_minor": 2
}
