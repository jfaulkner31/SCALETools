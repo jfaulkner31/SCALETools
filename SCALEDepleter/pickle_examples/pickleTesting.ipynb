{
 "cells": [
  {
   "cell_type": "code",
   "execution_count": 1,
   "metadata": {},
   "outputs": [],
   "source": [
    "from results_data import ResultsCELI\n",
    "from results_data import open_pkl\n",
    "import numpy as np"
   ]
  },
  {
   "cell_type": "code",
   "execution_count": 2,
   "metadata": {},
   "outputs": [],
   "source": [
    "out = open_pkl(filename='testing123_upTo_stepNum_7.pkl')"
   ]
  },
  {
   "cell_type": "code",
   "execution_count": 3,
   "metadata": {},
   "outputs": [],
   "source": [
    "# available functions:\n",
    "# out.print_case_settings()\n",
    "# out.get_BOS_keffs()\n",
    "# out.get_BOS_isotope()\n",
    "# out.get_BOS_power()\n",
    "# out.get_corrector_keffs()\n",
    "# out.get_BOS_AO\n",
    "# need to make:\n",
    "# out.get_corrector_power()\n",
    "# out.get_corrector_isotope()"
   ]
  },
  {
   "cell_type": "code",
   "execution_count": 4,
   "metadata": {},
   "outputs": [
    {
     "name": "stdout",
     "output_type": "stream",
     "text": [
      "fissionable_mats: [101, 102, 103, 104, 105, 106, 107, 108, 109, 110, 111, 112, 113, 114, 115, 116]\n",
      "fissionable_mats_vols: [60283.4870915574, 60283.4870915574, 60283.4870915574, 60283.4870915574, 60283.4870915574, 60283.4870915574, 60283.4870915574, 60283.4870915574, 60283.4870915574, 60283.4870915574, 60283.4870915574, 60283.4870915574, 60283.4870915574, 60283.4870915574, 60283.4870915574, 60283.4870915574]\n",
      "residual_number_density: 1e-20\n",
      "include_non_fission_material_power: True\n",
      "print_transport_powers: True\n",
      "system_IHM_mass_grams: 72133.56\n",
      "specific_power: [200, 200, 200, 200, 200, 200, 200, 200, 200, 200, 200, 200, 200, 200, 200, 200, 200, 200, 200, 200, 200, 200, 200, 200, 200, 200, 200, 200, 200, 200, 200, 200, 200, 200, 200, 200, 200, 200, 200, 200, 200, 200, 200, 200, 200, 200, 200, 200, 200, 200, 200, 200, 200, 200, 200, 200, 200, 200, 200, 200, 200, 200, 200, 200, 200, 200, 200, 200, 200, 200, 200, 200, 200, 200, 200, 200, 200, 200, 200, 200, 200, 200, 200, 200, 200, 200, 200, 200, 200, 200, 200, 200, 200, 200, 200, 200, 200, 200, 200, 200, 200, 200, 200, 200, 200, 200, 200, 200, 200, 200, 200, 200, 200, 200, 200, 200, 200, 200, 200, 200, 200, 200, 200, 200, 200, 200, 200, 200, 200, 200, 200, 200, 200, 200, 200, 200, 200, 200, 200, 200, 200, 200, 200, 200, 200]\n",
      "steplength_days: [0.125, 0.25, 0.625, 1, 1.125, 1.25, 1.875, 2.5, 2.5, 2.5, 2.5, 2.5, 2.5, 2.5, 2.5, 2.5, 2.5, 2.5, 2.5, 2.5, 2.5, 2.5, 2.5, 2.5, 2.5, 2.5, 2.5, 2.5, 2.5, 2.5, 2.5, 2.5, 2.5, 2.5, 2.5, 2.5, 2.5, 2.5, 2.5, 2.5, 2.5, 2.5, 2.5, 2.5, 2.5, 2.5, 2.5, 2.5, 2.5, 2.5, 2.5, 2.5, 2.5, 2.5, 2.5, 2.5, 2.5, 2.5, 2.5, 2.5, 2.5, 2.5, 2.5, 2.5, 2.5, 2.5, 2.5, 2.5, 2.5, 2.5, 2.5, 2.5, 2.5, 2.5, 2.5, 2.5, 2.5, 2.5, 2.5, 2.5, 2.5, 2.5, 2.5, 2.5, 2.5, 2.5, 2.5, 2.5, 2.5, 2.5, 2.5, 2.5, 2.5, 2.5, 2.5, 2.5, 2.5, 2.5, 2.5, 2.5, 2.5, 2.5, 2.5, 2.5, 2.5, 2.5, 2.5, 2.5, 2.5, 2.5, 2.5, 2.5, 2.5, 2.5, 2.5, 2.5, 2.5, 2.5, 2.5, 2.5, 2.5, 2.5, 2.5, 2.5, 2.5, 2.5, 2.5, 2.5, 2.5, 2.5, 2.5, 2.5, 2.5, 2.5, 2.5, 2.5, 2.5, 2.5, 2.5, 2.5, 2.5, 2.5, 2.5, 2.5, 1.25]\n",
      "origen_predictor_divs: 2\n",
      "addnuxdictbase: addnuxDicts/addnux3Dict.dict\n",
      "base_triton: triton_base.inp\n",
      "origen_base: baseOrigenFile.inp\n",
      "origenResults_F71dir: OrigenResults_F71dir\n",
      "MonteCarloResults_F33dir: MonteCarloResults_F33\n",
      "Nprocs: 47\n",
      "machinefile: nodes.78425\n",
      "tmpdir: tmp\n",
      "is_parallel: True\n",
      "origen_LI_divs: 10\n",
      "origen_steps_per_div: 1\n",
      "corrector_iterations: 3\n",
      "relaxation_factor: 0.3\n",
      "case_name: testing123\n",
      "\n",
      "\n",
      "Available Variables: \n",
      "\n",
      "- BOS values are the 'true' values at the T0 part of the predictor corrector iteration.\n",
      "- 'all' values are the true values in addition to the corrector values in the corrector iterations.\n",
      "- In the 'all' values, values with a key of -1 refer to predictor calcs at BOS.\n",
      "- This means any key of -1 is the BOS values at T0 of that step.\n",
      "\n",
      "keff_all - Every keff value including predictor + corrector iterations\n",
      "isotopics_all - Every isotopic library including predictor + corrector iterations\n",
      "power_all - Every power library including predictor + corrector iterations\n",
      "BOS_keff_lines - BOS keff lines from the BOS predictor calculation\n",
      "BOS_isotopics - BOS isotopics for each step.\n",
      "BOS_power - BOS power from the BOS power predictor calculations.\n"
     ]
    }
   ],
   "source": [
    "out.print_case_settings()"
   ]
  },
  {
   "cell_type": "code",
   "execution_count": 5,
   "metadata": {},
   "outputs": [],
   "source": [
    "BOS_keffs, BOS_sigmas, bu, time = out.get_BOS_keffs()"
   ]
  },
  {
   "cell_type": "code",
   "execution_count": 6,
   "metadata": {},
   "outputs": [],
   "source": [
    "u5, bu, time = out.get_BOS_isotope(material_id=101, isotope='U-235')"
   ]
  },
  {
   "cell_type": "code",
   "execution_count": 7,
   "metadata": {},
   "outputs": [
    {
     "data": {
      "text/plain": [
       "(array([1.1687, 1.1684, 1.16859, None], dtype=object),\n",
       " array([0.00014, 0.0001, 0.00012, None], dtype=object))"
      ]
     },
     "execution_count": 7,
     "metadata": {},
     "output_type": "execute_result"
    }
   ],
   "source": [
    "out.get_corrector_keffs(step_num=8)"
   ]
  },
  {
   "cell_type": "code",
   "execution_count": 8,
   "metadata": {},
   "outputs": [
    {
     "data": {
      "text/plain": [
       "(array([0.   , 0.025, 0.075, 0.2  , 0.4  , 0.625, 0.875, 1.25 ]),\n",
       " array([0.   , 0.125, 0.375, 1.   , 2.   , 3.125, 4.375, 6.25 ]),\n",
       " {0: {101: 0.02682500000000001,\n",
       "   102: 0.03902500000000001,\n",
       "   103: 0.05169500000000002,\n",
       "   104: 0.06263500000000001,\n",
       "   105: 0.071915,\n",
       "   106: 0.07911500000000003,\n",
       "   107: 0.08382500000000004,\n",
       "   108: 0.08611000000000003,\n",
       "   109: 0.08603000000000002,\n",
       "   110: 0.08334000000000003,\n",
       "   111: 0.07841500000000003,\n",
       "   112: 0.07135500000000003,\n",
       "   113: 0.06214500000000002,\n",
       "   114: 0.05123500000000002,\n",
       "   115: 0.03866000000000001,\n",
       "   116: 0.02653500000000001},\n",
       "  1: {101: 0.027639861800691,\n",
       "   102: 0.039964800175999134,\n",
       "   103: 0.05265973670131651,\n",
       "   104: 0.06342468287658563,\n",
       "   105: 0.07216463917680413,\n",
       "   106: 0.07865460672696639,\n",
       "   107: 0.08304458477707614,\n",
       "   108: 0.08526957365213175,\n",
       "   109: 0.08510957445212775,\n",
       "   110: 0.08252458737706313,\n",
       "   111: 0.07790961045194776,\n",
       "   112: 0.0711396443017785,\n",
       "   113: 0.06218968905155476,\n",
       "   114: 0.05132974335128326,\n",
       "   115: 0.038924805375973134,\n",
       "   116: 0.026894865525672378},\n",
       "  2: {101: 0.02792972070279297,\n",
       "   102: 0.04002459975400246,\n",
       "   103: 0.052384476155238446,\n",
       "   104: 0.06299937000629993,\n",
       "   105: 0.07153428465715343,\n",
       "   106: 0.0779842201577984,\n",
       "   107: 0.08249917500824991,\n",
       "   108: 0.08458915410845891,\n",
       "   109: 0.08453415465845342,\n",
       "   110: 0.08229917700822992,\n",
       "   111: 0.07775422245777543,\n",
       "   112: 0.07130428695713042,\n",
       "   113: 0.06262937370626294,\n",
       "   114: 0.05220447795522045,\n",
       "   115: 0.04007459925400746,\n",
       "   116: 0.02808471915280847},\n",
       "  3: {101: 0.028510427656414847,\n",
       "   102: 0.04060060900913513,\n",
       "   103: 0.052875793136897054,\n",
       "   104: 0.0633159497392461,\n",
       "   105: 0.07168107521612825,\n",
       "   106: 0.07785116776751652,\n",
       "   107: 0.0821462321934829,\n",
       "   108: 0.08427626414396217,\n",
       "   109: 0.08404126061890929,\n",
       "   110: 0.08174122611839178,\n",
       "   111: 0.07731615974239614,\n",
       "   112: 0.07086106291594375,\n",
       "   113: 0.06267594013910209,\n",
       "   114: 0.05253078796181943,\n",
       "   115: 0.04024560368405526,\n",
       "   116: 0.028150422256333848},\n",
       "  4: {101: 0.028805144025720125,\n",
       "   102: 0.04108520542602713,\n",
       "   103: 0.05335526677633388,\n",
       "   104: 0.06365031825159126,\n",
       "   105: 0.0716203581017905,\n",
       "   106: 0.07763538817694086,\n",
       "   107: 0.08154540772703864,\n",
       "   108: 0.08373041865209326,\n",
       "   109: 0.08368541842709212,\n",
       "   110: 0.08154540772703864,\n",
       "   111: 0.07730038650193251,\n",
       "   112: 0.071040355201776,\n",
       "   113: 0.06271031355156775,\n",
       "   114: 0.052450262251311254,\n",
       "   115: 0.04037020185100925,\n",
       "   116: 0.028285141425707126},\n",
       "  5: {101: 0.028345,\n",
       "   102: 0.040374999999999994,\n",
       "   103: 0.052625,\n",
       "   104: 0.06279499999999999,\n",
       "   105: 0.07094,\n",
       "   106: 0.077115,\n",
       "   107: 0.08138,\n",
       "   108: 0.08344,\n",
       "   109: 0.08353,\n",
       "   110: 0.08159,\n",
       "   111: 0.077495,\n",
       "   112: 0.071505,\n",
       "   113: 0.06348,\n",
       "   114: 0.05343499999999999,\n",
       "   115: 0.04146,\n",
       "   116: 0.029295},\n",
       "  6: {101: 0.029064854675726618,\n",
       "   102: 0.04119979400103,\n",
       "   103: 0.05330473347633262,\n",
       "   104: 0.06336468317658413,\n",
       "   105: 0.07139464302678487,\n",
       "   106: 0.07743461282693587,\n",
       "   107: 0.08131459342703287,\n",
       "   108: 0.08341458292708537,\n",
       "   109: 0.08321958390208048,\n",
       "   110: 0.08095959520202399,\n",
       "   111: 0.07696961515192424,\n",
       "   112: 0.07094964525177373,\n",
       "   113: 0.06313968430157849,\n",
       "   114: 0.053174734126329365,\n",
       "   115: 0.04107979460102699,\n",
       "   116: 0.028819855900720497},\n",
       "  7: {101: 0.029969850150749253,\n",
       "   102: 0.042324788376058124,\n",
       "   103: 0.05437472812635937,\n",
       "   104: 0.06416967915160425,\n",
       "   105: 0.071879640601797,\n",
       "   106: 0.07750961245193776,\n",
       "   107: 0.08106959465202675,\n",
       "   108: 0.08258458707706462,\n",
       "   109: 0.08230958845205776,\n",
       "   110: 0.08012459937700311,\n",
       "   111: 0.07613461932690337,\n",
       "   112: 0.07037464812675938,\n",
       "   113: 0.06273968630156851,\n",
       "   114: 0.05300473497632513,\n",
       "   115: 0.041209793951030256,\n",
       "   116: 0.029014854925725374}})"
      ]
     },
     "execution_count": 8,
     "metadata": {},
     "output_type": "execute_result"
    }
   ],
   "source": [
    "out.get_BOS_power()"
   ]
  },
  {
   "cell_type": "code",
   "execution_count": 9,
   "metadata": {},
   "outputs": [
    {
     "data": {
      "text/plain": [
       "(array([0.   , 0.025, 0.075, 0.2  , 0.4  , 0.625, 0.875, 1.25 ]),\n",
       " array([0.   , 0.125, 0.375, 1.   , 2.   , 3.125, 4.375, 6.25 ]),\n",
       " array([-0.00343391, -0.00680783, -0.00106123, -0.00369942, -0.00404481,\n",
       "         0.00478071, -0.0021826 , -0.00898078]))"
      ]
     },
     "execution_count": 9,
     "metadata": {},
     "output_type": "execute_result"
    }
   ],
   "source": [
    "out.get_BOS_AO()"
   ]
  },
  {
   "cell_type": "code",
   "execution_count": 10,
   "metadata": {},
   "outputs": [
    {
     "data": {
      "text/plain": [
       "{101: 0.02682500000000001,\n",
       " 102: 0.03902500000000001,\n",
       " 103: 0.05169500000000002,\n",
       " 104: 0.06263500000000001,\n",
       " 105: 0.071915,\n",
       " 106: 0.07911500000000003,\n",
       " 107: 0.08382500000000004,\n",
       " 108: 0.08611000000000003,\n",
       " 109: 0.08603000000000002,\n",
       " 110: 0.08334000000000003,\n",
       " 111: 0.07841500000000003,\n",
       " 112: 0.07135500000000003,\n",
       " 113: 0.06214500000000002,\n",
       " 114: 0.05123500000000002,\n",
       " 115: 0.03866000000000001,\n",
       " 116: 0.02653500000000001}"
      ]
     },
     "execution_count": 10,
     "metadata": {},
     "output_type": "execute_result"
    }
   ],
   "source": [
    "out.BOS_power[0]"
   ]
  },
  {
   "cell_type": "code",
   "execution_count": 11,
   "metadata": {},
   "outputs": [
    {
     "name": "stdout",
     "output_type": "stream",
     "text": [
      "available methods for postprocessing results:\n",
      "out.print_case_settings()\n",
      "out.get_BOS_keffs()\n",
      "out.get_BOS_isotope()\n",
      "out.get_BOS_power()\n",
      "out.get_corrector_keffs()\n",
      "out.get_BOS_AO\n",
      "\n",
      "\n",
      "need to make the following still\n",
      "out.get_corrector_power()\n",
      "out.get_corrector_isotope()\n",
      "out.get_corrector_AO()\n"
     ]
    }
   ],
   "source": [
    "out.print_methods()"
   ]
  },
  {
   "cell_type": "code",
   "execution_count": 12,
   "metadata": {},
   "outputs": [
    {
     "data": {
      "text/plain": [
       "array([[0.1742389 , 0.4454971 , 0.91677978, 0.16831774, 0.60862358],\n",
       "       [0.61778372, 0.98510789, 0.24929164, 0.03979679, 0.99361421],\n",
       "       [0.81140508, 0.52775797, 0.26513191, 0.39170915, 0.18612108]])"
      ]
     },
     "execution_count": 12,
     "metadata": {},
     "output_type": "execute_result"
    }
   ],
   "source": [
    "power = np.random.rand(3, 5) # materials, time\n",
    "\n",
    "power"
   ]
  },
  {
   "cell_type": "code",
   "execution_count": 13,
   "metadata": {},
   "outputs": [
    {
     "data": {
      "text/plain": [
       "dict_values([0.02682500000000001, 0.03902500000000001, 0.05169500000000002, 0.06263500000000001, 0.071915, 0.07911500000000003, 0.08382500000000004, 0.08611000000000003, 0.08603000000000002, 0.08334000000000003, 0.07841500000000003, 0.07135500000000003, 0.06214500000000002, 0.05123500000000002, 0.03866000000000001, 0.02653500000000001])"
      ]
     },
     "execution_count": 13,
     "metadata": {},
     "output_type": "execute_result"
    }
   ],
   "source": [
    "_, _, p = out.get_BOS_power()\n",
    "p[0].values()"
   ]
  },
  {
   "cell_type": "code",
   "execution_count": 14,
   "metadata": {},
   "outputs": [
    {
     "name": "stderr",
     "output_type": "stream",
     "text": [
      "findfont: Font family 'Cambria' not found.\n",
      "findfont: Font family 'Cambria' not found.\n",
      "findfont: Font family 'Cambria' not found.\n"
     ]
    },
    {
     "name": "stderr",
     "output_type": "stream",
     "text": [
      "findfont: Font family 'Cambria' not found.\n",
      "findfont: Font family 'Cambria' not found.\n",
      "findfont: Font family 'Cambria' not found.\n",
      "findfont: Font family 'Cambria' not found.\n",
      "findfont: Font family 'Cambria' not found.\n",
      "findfont: Font family 'Cambria' not found.\n",
      "findfont: Font family 'Cambria' not found.\n",
      "findfont: Font family 'Cambria' not found.\n",
      "findfont: Font family 'Cambria' not found.\n",
      "findfont: Font family 'Cambria' not found.\n",
      "findfont: Font family 'Cambria' not found.\n"
     ]
    },
    {
     "data": {
      "image/png": "[encoded data removed]",
      "text/plain": [
       "<Figure size 1000x600 with 2 Axes>"
      ]
     },
     "metadata": {},
     "output_type": "display_data"
    }
   ],
   "source": [
    "parr = out.plot_BOS_power(normalize=True, figsize=(10,6))"
   ]
  },
  {
   "cell_type": "code",
   "execution_count": null,
   "metadata": {},
   "outputs": [],
   "source": []
  }
 ],
 "metadata": {
  "kernelspec": {
   "display_name": "base",
   "language": "python",
   "name": "python3"
  },
  "language_info": {
   "codemirror_mode": {
    "name": "ipython",
    "version": 3
   },
   "file_extension": ".py",
   "mimetype": "text/x-python",
   "name": "python",
   "nbconvert_exporter": "python",
   "pygments_lexer": "ipython3",
   "version": "3.11.6"
  }
 },
 "nbformat": 4,
 "nbformat_minor": 2
}
