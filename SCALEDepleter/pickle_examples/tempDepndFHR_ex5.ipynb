{
 "cells": [
  {
   "cell_type": "code",
   "execution_count": 1,
   "metadata": {},
   "outputs": [],
   "source": [
    "import os\n",
    "import sys\n",
    "parent_dir = os.path.abspath('..')\n",
    "sys.path.append(parent_dir)\n",
    "from results_data import ResultsCELI\n",
    "from results_data import open_pkl\n",
    "import numpy as np\n",
    "import matplotlib.pyplot as plt\n",
    "import matplotlib.font_manager\n",
    "\n",
    "globalfont = 'DejaVu Sans'"
   ]
  },
  {
   "cell_type": "code",
   "execution_count": 2,
   "metadata": {},
   "outputs": [
    {
     "name": "stderr",
     "output_type": "stream",
     "text": [
      "findfont: Font family ['Cambria'] not found. Falling back to DejaVu Sans.\n"
     ]
    },
    {
     "data": {
      "text/plain": [
       "'/home/jfaulkner31/mambaforge3/envs/openmc-env/lib/python3.11/site-packages/matplotlib/mpl-data/fonts/ttf/DejaVuSans.ttf'"
      ]
     },
     "execution_count": 2,
     "metadata": {},
     "output_type": "execute_result"
    }
   ],
   "source": [
    "matplotlib.font_manager.findfont('Cambria')"
   ]
  },
  {
   "cell_type": "code",
   "execution_count": 3,
   "metadata": {},
   "outputs": [],
   "source": [
    "out = open_pkl(filename='hom_case1_75kNPG_alpha03.pkl')"
   ]
  },
  {
   "cell_type": "code",
   "execution_count": 4,
   "metadata": {},
   "outputs": [],
   "source": [
    "# available functions:\n",
    "# out.print_case_settings()\n",
    "# out.get_BOS_keffs()\n",
    "# out.get_BOS_isotope()\n",
    "# out.get_BOS_power()\n",
    "# out.get_corrector_keffs()\n",
    "# out.get_BOS_AO\n",
    "# need to make:\n",
    "# out.get_corrector_power()\n",
    "# out.get_corrector_isotope()"
   ]
  },
  {
   "cell_type": "code",
   "execution_count": 5,
   "metadata": {},
   "outputs": [
    {
     "name": "stdout",
     "output_type": "stream",
     "text": [
      "fissionable_mats: [161, 162, 163, 164, 165, 166, 167, 168, 169, 170, 171, 172, 173, 174, 175, 176]\n",
      "fissionable_mats_vols: [457.33869041273, 457.33869041273, 457.33869041273, 457.33869041273, 457.33869041273, 457.33869041273, 457.33869041273, 457.33869041273, 457.33869041273, 457.33869041273, 457.33869041273, 457.33869041273, 457.33869041273, 457.33869041273, 457.33869041273, 457.33869041273]\n",
      "residual_number_density: 1e-20\n",
      "include_non_fission_material_power: True\n",
      "print_transport_powers: True\n",
      "system_IHM_mass_grams: 72137.0\n",
      "specific_power: [200, 200, 200, 200, 200, 200, 200, 200, 200, 200, 200, 200, 200, 200, 200, 200, 200]\n",
      "steplength_days: [0.5, 2, 2.5, 5, 10, 10, 10, 10, 20, 20, 20, 20, 20, 50, 50, 50, 50]\n",
      "origen_predictor_divs: 2\n",
      "addnuxdictbase: addnuxDicts/addnux3Dict.dict\n",
      "base_triton: triton_base.inp\n",
      "origen_base: baseOrigenFile.inp\n",
      "origenResults_F71dir: OrigenResults_F71dir\n",
      "MonteCarloResults_F33dir: MonteCarloResults_F33\n",
      "Nprocs: 191\n",
      "machinefile: nodes.78514\n",
      "tmpdir: tmp\n",
      "is_parallel: True\n",
      "origen_LI_divs: 10\n",
      "origen_steps_per_div: 1\n",
      "corrector_iterations: 3\n",
      "relaxation_factor: 0.3\n",
      "case_name: tempDepndFHR_ex5\n",
      "\n",
      "\n",
      "Available Variables: \n",
      "\n",
      "- BOS values are the 'true' values at the T0 part of the predictor corrector iteration.\n",
      "- 'all' values are the true values in addition to the corrector values in the corrector iterations.\n",
      "- In the 'all' values, values with a key of -1 refer to predictor calcs at BOS.\n",
      "- This means any key of -1 is the BOS values at T0 of that step.\n",
      "\n",
      "keff_all - Every keff value including predictor + corrector iterations\n",
      "isotopics_all - Every isotopic library including predictor + corrector iterations\n",
      "power_all - Every power library including predictor + corrector iterations\n",
      "BOS_keff_lines - BOS keff lines from the BOS predictor calculation\n",
      "BOS_isotopics - BOS isotopics for each step.\n",
      "BOS_power - BOS power from the BOS power predictor calculations.\n"
     ]
    }
   ],
   "source": [
    "out.print_case_settings()"
   ]
  },
  {
   "cell_type": "code",
   "execution_count": 6,
   "metadata": {},
   "outputs": [],
   "source": [
    "BOS_keffs, BOS_sigmas, bu, time = out.get_BOS_keffs()"
   ]
  },
  {
   "cell_type": "code",
   "execution_count": 7,
   "metadata": {},
   "outputs": [
    {
     "ename": "Exception",
     "evalue": "Error occured - likely due to incorrect isotope being requested.",
     "output_type": "error",
     "traceback": [
      "\u001b[0;31m---------------------------------------------------------------------------\u001b[0m",
      "\u001b[0;31mKeyError\u001b[0m                                  Traceback (most recent call last)",
      "File \u001b[0;32m~/projects/SCALETools/SCALEDepleter/results_data.py:198\u001b[0m, in \u001b[0;36mResultsCELI.get_BOS_isotope\u001b[0;34m(self, material_id, isotope)\u001b[0m\n\u001b[1;32m    197\u001b[0m \u001b[38;5;28;01mtry\u001b[39;00m:\n\u001b[0;32m--> 198\u001b[0m   val \u001b[38;5;241m=\u001b[39m \u001b[38;5;28;43mself\u001b[39;49m\u001b[38;5;241;43m.\u001b[39;49m\u001b[43mBOS_isotopics\u001b[49m\u001b[43m[\u001b[49m\u001b[43mstep\u001b[49m\u001b[43m]\u001b[49m\u001b[38;5;241;43m.\u001b[39;49m\u001b[43mmaterial_dict\u001b[49m\u001b[43m[\u001b[49m\u001b[43mmaterial_id\u001b[49m\u001b[43m]\u001b[49m\u001b[38;5;241m.\u001b[39mreturn_iso_atom_dens(iso\u001b[38;5;241m=\u001b[39misotope)\n\u001b[1;32m    199\u001b[0m   iso_by_time \u001b[38;5;241m=\u001b[39m np\u001b[38;5;241m.\u001b[39mappend(iso_by_time, val)\n",
      "\u001b[0;31mKeyError\u001b[0m: 101",
      "\nDuring handling of the above exception, another exception occurred:\n",
      "\u001b[0;31mException\u001b[0m                                 Traceback (most recent call last)",
      "Cell \u001b[0;32mIn[7], line 1\u001b[0m\n\u001b[0;32m----> 1\u001b[0m u5, bu, time \u001b[38;5;241m=\u001b[39m \u001b[43mout\u001b[49m\u001b[38;5;241;43m.\u001b[39;49m\u001b[43mget_BOS_isotope\u001b[49m\u001b[43m(\u001b[49m\u001b[43mmaterial_id\u001b[49m\u001b[38;5;241;43m=\u001b[39;49m\u001b[38;5;241;43m101\u001b[39;49m\u001b[43m,\u001b[49m\u001b[43m \u001b[49m\u001b[43misotope\u001b[49m\u001b[38;5;241;43m=\u001b[39;49m\u001b[38;5;124;43m'\u001b[39;49m\u001b[38;5;124;43mU-235\u001b[39;49m\u001b[38;5;124;43m'\u001b[39;49m\u001b[43m)\u001b[49m\n",
      "File \u001b[0;32m~/projects/SCALETools/SCALEDepleter/results_data.py:203\u001b[0m, in \u001b[0;36mResultsCELI.get_BOS_isotope\u001b[0;34m(self, material_id, isotope)\u001b[0m\n\u001b[1;32m    201\u001b[0m     BOS_time \u001b[38;5;241m=\u001b[39m np\u001b[38;5;241m.\u001b[39mappend(BOS_time, full_time[idx])\n\u001b[1;32m    202\u001b[0m   \u001b[38;5;28;01mexcept\u001b[39;00m:\n\u001b[0;32m--> 203\u001b[0m     \u001b[38;5;28;01mraise\u001b[39;00m \u001b[38;5;167;01mException\u001b[39;00m(\u001b[38;5;124m\"\u001b[39m\u001b[38;5;124mError occured - likely due to incorrect isotope being requested.\u001b[39m\u001b[38;5;124m\"\u001b[39m)\n\u001b[1;32m    204\u001b[0m \u001b[38;5;28;01mreturn\u001b[39;00m iso_by_time, BOS_BU, BOS_time\n",
      "\u001b[0;31mException\u001b[0m: Error occured - likely due to incorrect isotope being requested."
     ]
    }
   ],
   "source": [
    "u5, bu, time = out.get_BOS_isotope(material_id=101, isotope='U-235')"
   ]
  },
  {
   "cell_type": "code",
   "execution_count": null,
   "metadata": {},
   "outputs": [],
   "source": [
    "out.get_corrector_keffs(step_num=0)"
   ]
  },
  {
   "cell_type": "code",
   "execution_count": null,
   "metadata": {},
   "outputs": [],
   "source": [
    "out.keff_all"
   ]
  },
  {
   "cell_type": "code",
   "execution_count": null,
   "metadata": {},
   "outputs": [],
   "source": [
    "out.print_methods()"
   ]
  },
  {
   "cell_type": "code",
   "execution_count": null,
   "metadata": {},
   "outputs": [],
   "source": [
    "_, _, p = out.get_BOS_power()\n",
    "p[0].values()"
   ]
  },
  {
   "cell_type": "code",
   "execution_count": null,
   "metadata": {},
   "outputs": [],
   "source": [
    "parr, BOS_time = out.plot_BOS_power_map(normalize=True, figsize=(10,3), cmap='turbo', fontname=globalfont,fontsize=13)"
   ]
  },
  {
   "cell_type": "code",
   "execution_count": null,
   "metadata": {},
   "outputs": [],
   "source": [
    "parr = out.plot_all_power_map(normalize=True, figsize=(10,3), cmap='nipy_spectral', fontsize=13, fontname=globalfont)"
   ]
  },
  {
   "cell_type": "code",
   "execution_count": null,
   "metadata": {},
   "outputs": [],
   "source": [
    "parr, BOS_time = out.plot_BOS_power_2d(normalize=True, figsize=(4,3), fontname=globalfont,fontsize=16)"
   ]
  },
  {
   "cell_type": "code",
   "execution_count": null,
   "metadata": {},
   "outputs": [],
   "source": [
    "t, b, ao = out.get_BOS_AO()\n",
    "figAO, axAO = plt.subplots(figsize=(4,3))\n",
    "axAO.plot(t,ao)"
   ]
  },
  {
   "cell_type": "code",
   "execution_count": null,
   "metadata": {},
   "outputs": [],
   "source": [
    "x, ao = out.get_all_AO()\n",
    "figAO, axAO = plt.subplots(figsize=(4,3))\n",
    "axAO.plot(x,ao)"
   ]
  },
  {
   "cell_type": "code",
   "execution_count": null,
   "metadata": {},
   "outputs": [],
   "source": [
    "ao"
   ]
  },
  {
   "cell_type": "code",
   "execution_count": null,
   "metadata": {},
   "outputs": [],
   "source": [
    "u235arr = out.plot_BOS_isotopics_map(isotope='U-235',\n",
    "                       normalize=True, figsize=(4,3), cmap='turbo', fontsize=13, fontname=globalfont)"
   ]
  },
  {
   "cell_type": "code",
   "execution_count": null,
   "metadata": {},
   "outputs": [],
   "source": [
    "u235arr = out.plot_BOS_isotopics_map(isotope='U-235',\n",
    "                       normalize=False, figsize=(4,3), cmap='turbo', fontsize=13, fontname=globalfont)"
   ]
  },
  {
   "cell_type": "code",
   "execution_count": null,
   "metadata": {},
   "outputs": [],
   "source": [
    "xe135arr = out.plot_BOS_isotopics_map(isotope='Xe-135',\n",
    "                       normalize=True, figsize=(9,3), cmap='nipy_spectral', fontsize=12, fontname=globalfont)"
   ]
  },
  {
   "cell_type": "code",
   "execution_count": null,
   "metadata": {},
   "outputs": [],
   "source": [
    "xe135arr = out.plot_BOS_isotopics_map(isotope='Xe-135',\n",
    "                       normalize=True, figsize=(4,3), cmap='turbo', fontsize=13, fontname=globalfont)"
   ]
  },
  {
   "cell_type": "code",
   "execution_count": null,
   "metadata": {},
   "outputs": [],
   "source": [
    "pu239arr = out.plot_BOS_isotopics_map(isotope='Pu-239',\n",
    "                       normalize=False, figsize=(4,3), cmap='turbo', fontsize=13, fontname=globalfont)"
   ]
  },
  {
   "cell_type": "code",
   "execution_count": 55,
   "metadata": {},
   "outputs": [],
   "source": [
    "# plotting isotopics at end of every substep --->\n",
    "# not working now but save for later when we make plot_all_isotopics_map\n",
    "\n",
    "iso = 'U-235'\n",
    "\n",
    "fissile_materials = out.BOS_power[0].keys()\n",
    "for bigStep in out.isotopics_all.keys():\n",
    "  for substep in out.isotopics_all[bigStep].keys():\n",
    "    atom_dens_row = np.array([])\n",
    "    for mat in fissile_materials:\n",
    "      atom_dens_row = np.append(atom_dens_row, out.isotopics_all[bigStep][substep].material_dict[mat].return_iso_atom_dens(iso))\n",
    "\n"
   ]
  },
  {
   "cell_type": "code",
   "execution_count": null,
   "metadata": {},
   "outputs": [],
   "source": [
    "parr = out.plot_all_isotopics_map(isotope='Xe-135',\n",
    "                       normalize=False, figsize=(12,3), cmap='turbo', fontsize=13, fontname=globalfont)"
   ]
  },
  {
   "cell_type": "code",
   "execution_count": null,
   "metadata": {},
   "outputs": [],
   "source": [
    "offset = []\n",
    "for step in range(np.shape(parr)[1]):\n",
    "  top = 0.0\n",
    "  bottom = 0.0\n",
    "  for mat in range(np.shape(parr)[0]):\n",
    "    if mat <= 7:\n",
    "      top += parr[mat,step]\n",
    "    else:\n",
    "      bottom += parr[mat,step]\n",
    "  offset += [(top-bottom)/(top+bottom)]\n",
    "plt.plot(offset, '-o', markersize=3)\n",
    "\n",
    "\n",
    "offset"
   ]
  },
  {
   "cell_type": "code",
   "execution_count": null,
   "metadata": {},
   "outputs": [],
   "source": [
    "a = []\n",
    "a += [1]\n",
    "a += [5]\n",
    "a\n"
   ]
  },
  {
   "cell_type": "code",
   "execution_count": null,
   "metadata": {},
   "outputs": [],
   "source": [
    "np.shape(parr)"
   ]
  },
  {
   "cell_type": "code",
   "execution_count": null,
   "metadata": {},
   "outputs": [],
   "source": [
    "for i in range(55):\n",
    "  plt.plot(parr[:,i] / sum(parr[:,i]))"
   ]
  }
 ],
 "metadata": {
  "kernelspec": {
   "display_name": "openmc-env",
   "language": "python",
   "name": "python3"
  },
  "language_info": {
   "codemirror_mode": {
    "name": "ipython",
    "version": 3
   },
   "file_extension": ".py",
   "mimetype": "text/x-python",
   "name": "python",
   "nbconvert_exporter": "python",
   "pygments_lexer": "ipython3",
   "version": "3.11.6"
  }
 },
 "nbformat": 4,
 "nbformat_minor": 2
}
